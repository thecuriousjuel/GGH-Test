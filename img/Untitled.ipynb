{
 "cells": [
  {
   "cell_type": "code",
   "execution_count": 3,
   "id": "810f59b8",
   "metadata": {},
   "outputs": [],
   "source": [
    "d = {\n",
    "  \"name\": \"Gold Bala 1\",\n",
    "  \"weight\": 2,\n",
    "  \"imageFileLocation\": \"img/bala/bala1.jpg\"\n",
    "}"
   ]
  },
  {
   "cell_type": "code",
   "execution_count": 5,
   "id": "606628c6",
   "metadata": {},
   "outputs": [],
   "source": [
    "template = \"{'name': 'Gold Bala {count}', 'weight': 2, 'imageFileLocation': 'img/bala/bala{count}.jpg'}\""
   ]
  },
  {
   "cell_type": "code",
   "execution_count": 24,
   "id": "179dc41a",
   "metadata": {},
   "outputs": [
    {
     "name": "stdout",
     "output_type": "stream",
     "text": [
      "{'name': 'Gold Wristlet 1', 'weight': 2, 'imageFileLocation': 'img/wristlet/wristlet1.jpg'},\n",
      "{'name': 'Gold Wristlet 2', 'weight': 2, 'imageFileLocation': 'img/wristlet/wristlet2.jpg'},\n",
      "{'name': 'Gold Wristlet 3', 'weight': 2, 'imageFileLocation': 'img/wristlet/wristlet3.jpg'},\n",
      "{'name': 'Gold Wristlet 4', 'weight': 2, 'imageFileLocation': 'img/wristlet/wristlet4.jpg'},\n",
      "{'name': 'Gold Wristlet 5', 'weight': 2, 'imageFileLocation': 'img/wristlet/wristlet5.jpg'},\n",
      "{'name': 'Gold Wristlet 6', 'weight': 2, 'imageFileLocation': 'img/wristlet/wristlet6.jpg'},\n",
      "{'name': 'Gold Wristlet 7', 'weight': 2, 'imageFileLocation': 'img/wristlet/wristlet7.jpg'},\n",
      "{'name': 'Gold Wristlet 8', 'weight': 2, 'imageFileLocation': 'img/wristlet/wristlet8.jpg'},\n",
      "{'name': 'Gold Wristlet 9', 'weight': 2, 'imageFileLocation': 'img/wristlet/wristlet9.jpg'},\n"
     ]
    }
   ],
   "source": [
    "item = 'Wristlet'\n",
    "number = 9\n",
    "\n",
    "for count in range(1, number + 1):\n",
    "    print(\"{'name': 'Gold \" + item.title() + ' ' + str(count) + f\"', 'weight': 2, 'imageFileLocation': 'img/{item.lower()}/{item.lower()}\" + str(count) + \".jpg'},\")"
   ]
  },
  {
   "cell_type": "code",
   "execution_count": null,
   "id": "637d9f04",
   "metadata": {},
   "outputs": [],
   "source": []
  }
 ],
 "metadata": {
  "kernelspec": {
   "display_name": "Python 3 (ipykernel)",
   "language": "python",
   "name": "python3"
  },
  "language_info": {
   "codemirror_mode": {
    "name": "ipython",
    "version": 3
   },
   "file_extension": ".py",
   "mimetype": "text/x-python",
   "name": "python",
   "nbconvert_exporter": "python",
   "pygments_lexer": "ipython3",
   "version": "3.10.9"
  }
 },
 "nbformat": 4,
 "nbformat_minor": 5
}
